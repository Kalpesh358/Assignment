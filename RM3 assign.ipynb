{
  "nbformat": 4,
  "nbformat_minor": 0,
  "metadata": {
    "colab": {
      "provenance": []
    },
    "kernelspec": {
      "name": "python3",
      "display_name": "Python 3"
    },
    "language_info": {
      "name": "python"
    }
  },
  "cells": [
    {
      "cell_type": "code",
      "execution_count": 2,
      "metadata": {
        "colab": {
          "base_uri": "https://localhost:8080/"
        },
        "id": "na8eEJL9qn6Z",
        "outputId": "e4ed7bbc-9c29-4ce8-d94f-2ecc27bff097"
      },
      "outputs": [
        {
          "output_type": "stream",
          "name": "stdout",
          "text": [
            "\u001b[1mOutput :\u001b[0m\n",
            "\u001b[1mDocument 1:\u001b[0m\n",
            "Cosine Similarity between the query and Document 1: 0.975278769182648\n",
            "--------------------------------------------------\n",
            "\u001b[1mDocument 2:\u001b[0m\n",
            "Cosine Similarity between the query and Document 2: 0.9096272263489482\n",
            "--------------------------------------------------\n",
            "\u001b[1mDocument 3:\u001b[0m\n",
            "Cosine Similarity between the query and Document 3: 0.8876273950817448\n",
            "--------------------------------------------------\n",
            "\u001b[1mDocument 4:\u001b[0m\n",
            "Cosine Similarity between the query and Document 4: 0.9517877007555453\n",
            "--------------------------------------------------\n",
            "\u001b[1mDocument 5:\u001b[0m\n",
            "Cosine Similarity between the query and Document 5: 0.9629653749714072\n",
            "--------------------------------------------------\n"
          ]
        }
      ],
      "source": [
        "import math\n",
        "\n",
        "def calculate_idf(N, df):\n",
        "    return math.log10(N / df)\n",
        "\n",
        "def calculate_idfa(tf):\n",
        "    return 1 + math.log10(tf) if tf > 0 else 1\n",
        "\n",
        "def calculate_tf_idf(tf, idf):\n",
        "    return tf * idf\n",
        "\n",
        "def calculate_norm(weights):\n",
        "    return math.sqrt(sum([w**2 for w in weights]))\n",
        "\n",
        "print(\"\\033[1mOutput :\\033[0m\")\n",
        "\n",
        "# Function to compute cosine similarity\n",
        "def cosine_similarity(query, document, N, df_query):\n",
        "    # Step 1: Calculate IDF for each term\n",
        "    idf_query = {term: calculate_idf(N, df_query.get(term, 1)) for term in query}\n",
        "    idf_document = {term: calculate_idfa(document.get(term, 0)) for term in document}\n",
        "\n",
        "    # Step 2: Calculate TF-IDF for the query and document\n",
        "    tf_idf_query = {term: calculate_tf_idf(query[term], idf_query[term]) for term in query}\n",
        "\n",
        "    # Step 3: Normalize the TF-IDF values (Euclidean normalization)\n",
        "    norm_query = calculate_norm(list(tf_idf_query.values()))\n",
        "    norm_document = calculate_norm(list(idf_document.values()))\n",
        "\n",
        "    normalized_query = {term: tf_idf_query[term] / norm_query for term in tf_idf_query}\n",
        "    normalized_document = {term: idf_document[term] / norm_document for term in idf_document}\n",
        "\n",
        "    similarity = sum([normalized_query.get(term, 0) * normalized_document.get(term, 0) for term in set(query).union(document)])\n",
        "\n",
        "    return similarity\n",
        "\n",
        "# New example query and documents\n",
        "query = {'machine': 1, 'learning': 2, 'models': 1}\n",
        "\n",
        "df_query = {'machine': 5000, 'learning': 8000, 'models': 12000}\n",
        "\n",
        "N = 5000000\n",
        "\n",
        "documents = [\n",
        "    {'machine': 2, 'learning': 3, 'models': 1},\n",
        "    {'machine': 1, 'learning': 1, 'models': 2},\n",
        "    {'machine': 1, 'learning': 0, 'models': 3},\n",
        "    {'machine': 0, 'learning': 2, 'models': 2},\n",
        "    {'machine': 3, 'learning': 3, 'models': 0},\n",
        "]\n",
        "\n",
        "# Compute cosine similarity for each document with the query\n",
        "for i, document in enumerate(documents, start=1):\n",
        "    print(f\"\\033[1mDocument {i}:\\033[0m\")\n",
        "    similarity_score = cosine_similarity(query, document, N, df_query)\n",
        "    print(f\"Cosine Similarity between the query and Document {i}: {similarity_score}\")\n",
        "    print(\"-\" * 50)\n"
      ]
    }
  ]
}