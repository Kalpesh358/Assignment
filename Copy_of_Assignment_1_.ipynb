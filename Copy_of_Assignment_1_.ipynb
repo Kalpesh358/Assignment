{
  "nbformat": 4,
  "nbformat_minor": 0,
  "metadata": {
    "colab": {
      "provenance": []
    },
    "kernelspec": {
      "name": "python3",
      "display_name": "Python 3"
    },
    "language_info": {
      "name": "python"
    }
  },
  "cells": [
    {
      "cell_type": "code",
      "execution_count": 1,
      "metadata": {
        "colab": {
          "base_uri": "https://localhost:8080/"
        },
        "id": "8A8FPdil6lw1",
        "outputId": "843a405f-f686-4d19-8a13-82d83a7fc14e"
      },
      "outputs": [
        {
          "output_type": "stream",
          "name": "stderr",
          "text": [
            "[nltk_data] Downloading package punkt to /root/nltk_data...\n",
            "[nltk_data]   Unzipping tokenizers/punkt.zip.\n"
          ]
        },
        {
          "output_type": "stream",
          "name": "stdout",
          "text": [
            "Sentences:\n",
            "Artificial Intelligence (AI) is rapidly transforming various industries, from healthcare and finance to entertainment and education.\n",
            "\n",
            "Words:\n",
            "Artificial\n",
            "Intelligence\n",
            "(\n",
            "AI\n",
            ")\n",
            "is\n",
            "rapidly\n",
            "transforming\n",
            "various\n",
            "industries\n",
            ",\n",
            "from\n",
            "healthcare\n",
            "and\n",
            "finance\n",
            "to\n",
            "entertainment\n",
            "and\n",
            "education\n",
            ".\n"
          ]
        }
      ],
      "source": [
        "import nltk\n",
        "from nltk.tokenize import word_tokenize, sent_tokenize\n",
        "\n",
        "nltk.download('punkt')\n",
        "\n",
        "text =     \"Artificial Intelligence (AI) is rapidly transforming various industries, from healthcare and finance to entertainment and education. \"\n",
        "\n",
        "sentences = sent_tokenize(text)\n",
        "print(\"Sentences:\")\n",
        "for sentence in sentences:\n",
        "    print(sentence)\n",
        "\n",
        "\n",
        "words = word_tokenize(text)\n",
        "print(\"\\nWords:\")\n",
        "for word in words:\n",
        "    tokens=word\n",
        "    print(tokens)"
      ]
    },
    {
      "cell_type": "code",
      "source": [
        "import nltk\n",
        "from nltk.tokenize import word_tokenize, sent_tokenize\n",
        "from nltk.corpus import stopwords\n",
        "import string\n",
        "\n",
        "# Download necessary resources\n",
        "nltk.download('punkt')\n",
        "nltk.download('stopwords')\n",
        "\n",
        "# Original text\n",
        "text = \"Artificial Intelligence (AI) is rapidly transforming various industries, from healthcare and finance to entertainment and education.\"\n",
        "\n",
        "# Tokenize the text into words\n",
        "words = word_tokenize(text)\n",
        "\n",
        "# Convert words to lowercase\n",
        "tokens = [word.lower() for word in words]\n",
        "\n",
        "# Get English stopwords\n",
        "stop_words = set(stopwords.words('english'))\n",
        "\n",
        "# Filter out stopwords and punctuation\n",
        "filtered = [word for word in tokens if word not in stop_words and word not in string.punctuation]\n",
        "\n",
        "# Output the filtered tokens\n",
        "print(\"Tokens after removing stopwords and punctuation:\\n\")\n",
        "print(filtered)\n"
      ],
      "metadata": {
        "colab": {
          "base_uri": "https://localhost:8080/"
        },
        "id": "yxKz_Di_6oO_",
        "outputId": "a2d310ae-8c1c-4325-dc9a-cba3c11d7338"
      },
      "execution_count": 2,
      "outputs": [
        {
          "output_type": "stream",
          "name": "stderr",
          "text": [
            "[nltk_data] Downloading package punkt to /root/nltk_data...\n",
            "[nltk_data]   Package punkt is already up-to-date!\n",
            "[nltk_data] Downloading package stopwords to /root/nltk_data...\n",
            "[nltk_data]   Unzipping corpora/stopwords.zip.\n"
          ]
        },
        {
          "output_type": "stream",
          "name": "stdout",
          "text": [
            "Tokens after removing stopwords and punctuation:\n",
            "\n",
            "['artificial', 'intelligence', 'ai', 'rapidly', 'transforming', 'various', 'industries', 'healthcare', 'finance', 'entertainment', 'education']\n"
          ]
        }
      ]
    },
    {
      "cell_type": "code",
      "source": [
        "from nltk.stem.porter import *\n",
        "\n",
        "pStemmer = PorterStemmer()\n",
        "\n",
        "list_of_words = [\"running\", \"runner\", \"runs\", \"easily\", \"runningly\", \"happily\", \"happier\", \"happiness\", \"happy\", \"unhappiness\"]\n",
        "\n",
        "for words in list_of_words:\n",
        "    print(words + \": \" + pStemmer.stem(words))"
      ],
      "metadata": {
        "colab": {
          "base_uri": "https://localhost:8080/"
        },
        "id": "_Ugt92K86xqv",
        "outputId": "2db08cf4-5c6d-418c-93f8-744781ca3ba4"
      },
      "execution_count": 4,
      "outputs": [
        {
          "output_type": "stream",
          "name": "stdout",
          "text": [
            "running: run\n",
            "runner: runner\n",
            "runs: run\n",
            "easily: easili\n",
            "runningly: runningli\n",
            "happily: happili\n",
            "happier: happier\n",
            "happiness: happi\n",
            "happy: happi\n",
            "unhappiness: unhappi\n"
          ]
        }
      ]
    }
  ]
}