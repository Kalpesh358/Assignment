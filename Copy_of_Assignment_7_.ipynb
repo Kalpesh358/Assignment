{
  "nbformat": 4,
  "nbformat_minor": 0,
  "metadata": {
    "colab": {
      "provenance": []
    },
    "kernelspec": {
      "name": "python3",
      "display_name": "Python 3"
    },
    "language_info": {
      "name": "python"
    }
  },
  "cells": [
    {
      "cell_type": "code",
      "execution_count": 1,
      "metadata": {
        "colab": {
          "base_uri": "https://localhost:8080/"
        },
        "id": "UEYJ9XlDuqyM",
        "outputId": "852745b4-c763-4ef1-b2a8-7b4980623545"
      },
      "outputs": [
        {
          "output_type": "stream",
          "name": "stdout",
          "text": [
            "Authority Scores: {'P': 8.017340286698926e-06, 'Q': 0.3717480344136556, 'R': 0.6015009550095866, 'S': 0.6015009550095866, 'T': 0.3717480344136556}\n",
            "Hub Scores: {'P': 0.6015009549919981, 'Q': 0.6015009549919981, 'R': 4.954988796652184e-06, 'S': 0.3717480344688298, 'T': 0.3717480344688298}\n"
          ]
        }
      ],
      "source": [
        "import numpy as np\n",
        "\n",
        "def compute_hits(adj_matrix, labels, max_iterations=50, tolerance=1e-5):  # Adjusted values\n",
        "    num_nodes = len(labels)\n",
        "    hubs = np.ones(num_nodes)  # Initialize hub scores\n",
        "    authorities = np.zeros(num_nodes)  # Initialize authority scores\n",
        "\n",
        "    for iteration in range(max_iterations):\n",
        "        # Update authority scores\n",
        "        updated_authorities = np.dot(adj_matrix.T, hubs)\n",
        "        updated_authorities /= np.linalg.norm(updated_authorities, ord=2)\n",
        "\n",
        "        # Update hub scores\n",
        "        updated_hubs = np.dot(adj_matrix, updated_authorities)\n",
        "        updated_hubs /= np.linalg.norm(updated_hubs, ord=2)\n",
        "\n",
        "        # Check for convergence\n",
        "        if (\n",
        "            np.linalg.norm(updated_authorities - authorities, ord=2) < tolerance and\n",
        "            np.linalg.norm(updated_hubs - hubs, ord=2) < tolerance\n",
        "        ):\n",
        "            break\n",
        "\n",
        "        authorities = updated_authorities\n",
        "        hubs = updated_hubs\n",
        "\n",
        "    return authorities, hubs\n",
        "\n",
        "if __name__ == \"__main__\":\n",
        "    # Example adjacency matrix\n",
        "    adjacency_matrix = np.array([\n",
        "        [0, 1, 0, 1, 0],\n",
        "        [0, 0, 1, 0, 1],\n",
        "        [1, 0, 0, 0, 0],\n",
        "        [0, 0, 1, 0, 0],\n",
        "        [0, 0, 0, 1, 0]\n",
        "    ])\n",
        "\n",
        "    # Labels for the nodes\n",
        "    node_names = ['P', 'Q', 'R', 'S', 'T']\n",
        "\n",
        "    # Compute HITS scores\n",
        "    authority_scores, hub_scores = compute_hits(adjacency_matrix, node_names)\n",
        "\n",
        "    # Display the results\n",
        "    print(\"Authority Scores:\", dict(zip(node_names, authority_scores)))\n",
        "    print(\"Hub Scores:\", dict(zip(node_names, hub_scores)))\n",
        "\n",
        "    # Identify the top nodes\n",
        "    top_authority = np.argmax(authority_scores)\n",
        "    top_hub = np.argmax(hub_scores)\n",
        "\n",
        "    # Print the nodes with the highest scores\n",
        "    # print(f\"Top Authority Node: {node_names[top_authority]} (Score: {authority_scores[top_authority]:.4f})\")\n",
        "    # print(f\"Top Hub Node: {node_names[top_hub]} (Score: {hub_scores[top_hub]:.4f})\")\n"
      ]
    }
  ]
}